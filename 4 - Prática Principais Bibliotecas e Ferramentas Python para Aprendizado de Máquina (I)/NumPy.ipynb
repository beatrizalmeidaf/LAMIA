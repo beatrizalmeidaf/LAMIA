{
 "cells": [
  {
   "cell_type": "markdown",
   "id": "8a2b2514-4881-4c7e-a3ae-2aaa3de7d243",
   "metadata": {},
   "source": [
    "### Criacao de vetores e arrays e numpy.random"
   ]
  },
  {
   "cell_type": "code",
   "execution_count": 2,
   "id": "26f1292f-e420-4ad3-ae53-2c32320544c3",
   "metadata": {},
   "outputs": [],
   "source": [
    "import numpy as np "
   ]
  },
  {
   "cell_type": "code",
   "execution_count": 2,
   "id": "c68cab6b-2e68-4a2f-a989-f3283938b406",
   "metadata": {},
   "outputs": [
    {
     "data": {
      "text/plain": [
       "[1, 2, 3]"
      ]
     },
     "execution_count": 2,
     "metadata": {},
     "output_type": "execute_result"
    }
   ],
   "source": [
    "lista = [1,2,3]\n",
    "lista"
   ]
  },
  {
   "cell_type": "code",
   "execution_count": 4,
   "id": "aac9ed1c-7ab5-448b-883b-d592526a9d7a",
   "metadata": {},
   "outputs": [
    {
     "data": {
      "text/plain": [
       "array([1, 2, 3])"
      ]
     },
     "execution_count": 4,
     "metadata": {},
     "output_type": "execute_result"
    }
   ],
   "source": [
    "np.array(lista) # converteu a lista em um array de python"
   ]
  },
  {
   "cell_type": "code",
   "execution_count": 5,
   "id": "4b724edf-3e75-4bf3-bcb6-6824dbc043e5",
   "metadata": {},
   "outputs": [
    {
     "data": {
      "text/plain": [
       "[[1, 2, 3], [4, 5, 6], [7, 8, 9]]"
      ]
     },
     "execution_count": 5,
     "metadata": {},
     "output_type": "execute_result"
    }
   ],
   "source": [
    "matriz  = [[1,2,3],[4,5,6],[7,8,9]]\n",
    "matriz"
   ]
  },
  {
   "cell_type": "code",
   "execution_count": 7,
   "id": "46f4708e-0866-4e43-bae3-50acea77f229",
   "metadata": {},
   "outputs": [
    {
     "data": {
      "text/plain": [
       "array([[1, 2, 3],\n",
       "       [4, 5, 6],\n",
       "       [7, 8, 9]])"
      ]
     },
     "execution_count": 7,
     "metadata": {},
     "output_type": "execute_result"
    }
   ],
   "source": [
    "np.array(matriz) "
   ]
  },
  {
   "cell_type": "code",
   "execution_count": 9,
   "id": "0eab9946-b838-4aed-b6d0-ae7f1a920352",
   "metadata": {},
   "outputs": [
    {
     "data": {
      "text/plain": [
       "array([0, 1, 2, 3, 4, 5, 6, 7, 8, 9])"
      ]
     },
     "execution_count": 9,
     "metadata": {},
     "output_type": "execute_result"
    }
   ],
   "source": [
    "np.arange(0,10) # criar array"
   ]
  },
  {
   "cell_type": "code",
   "execution_count": 10,
   "id": "05861d6c-e6fb-42c5-87c5-d00741fe4e8c",
   "metadata": {},
   "outputs": [
    {
     "data": {
      "text/plain": [
       "array([0, 2, 4, 6, 8])"
      ]
     },
     "execution_count": 10,
     "metadata": {},
     "output_type": "execute_result"
    }
   ],
   "source": [
    "np.arange(0,10,2)"
   ]
  },
  {
   "cell_type": "code",
   "execution_count": 12,
   "id": "1dbf738a-d56b-4e4b-b5ad-1f6bc559c46d",
   "metadata": {},
   "outputs": [
    {
     "data": {
      "text/plain": [
       "array([0., 0., 0.])"
      ]
     },
     "execution_count": 12,
     "metadata": {},
     "output_type": "execute_result"
    }
   ],
   "source": [
    "np.zeros(3)"
   ]
  },
  {
   "cell_type": "code",
   "execution_count": 13,
   "id": "2dd32826-e862-4c40-a482-1a68d6baea9a",
   "metadata": {},
   "outputs": [],
   "source": [
    "arr = np.zeros((5,5))"
   ]
  },
  {
   "cell_type": "code",
   "execution_count": 14,
   "id": "0a978c4b-f2f0-4c11-b9e8-d5bb7c39e693",
   "metadata": {},
   "outputs": [
    {
     "data": {
      "text/plain": [
       "array([[0., 0., 0., 0., 0.],\n",
       "       [0., 0., 0., 0., 0.],\n",
       "       [0., 0., 0., 0., 0.],\n",
       "       [0., 0., 0., 0., 0.],\n",
       "       [0., 0., 0., 0., 0.]])"
      ]
     },
     "execution_count": 14,
     "metadata": {},
     "output_type": "execute_result"
    }
   ],
   "source": [
    "arr"
   ]
  },
  {
   "cell_type": "code",
   "execution_count": 18,
   "id": "a050dde5-46c8-4ae0-ba3d-380318f26cfb",
   "metadata": {},
   "outputs": [
    {
     "data": {
      "text/plain": [
       "array([[1., 1., 1.],\n",
       "       [1., 1., 1.],\n",
       "       [1., 1., 1.]])"
      ]
     },
     "execution_count": 18,
     "metadata": {},
     "output_type": "execute_result"
    }
   ],
   "source": [
    "arr = np.ones((3, 3))\n",
    "arr"
   ]
  },
  {
   "cell_type": "code",
   "execution_count": 19,
   "id": "8326a89a-22ae-412e-aa9c-dbd7a0b1457c",
   "metadata": {},
   "outputs": [
    {
     "data": {
      "text/plain": [
       "array([[1., 0., 0., 0.],\n",
       "       [0., 1., 0., 0.],\n",
       "       [0., 0., 1., 0.],\n",
       "       [0., 0., 0., 1.]])"
      ]
     },
     "execution_count": 19,
     "metadata": {},
     "output_type": "execute_result"
    }
   ],
   "source": [
    "# criacao matriz identidade\n",
    "\n",
    "np.eye(4)"
   ]
  },
  {
   "cell_type": "code",
   "execution_count": 20,
   "id": "4c6817a7-804d-423d-b2d6-704696bc87d9",
   "metadata": {},
   "outputs": [
    {
     "data": {
      "text/plain": [
       "array([ 0., 10.])"
      ]
     },
     "execution_count": 20,
     "metadata": {},
     "output_type": "execute_result"
    }
   ],
   "source": [
    "np.linspace(0,10,2)"
   ]
  },
  {
   "cell_type": "code",
   "execution_count": 21,
   "id": "e5ff848b-fe88-42c7-80a5-28805aaf9eb7",
   "metadata": {},
   "outputs": [
    {
     "data": {
      "text/plain": [
       "array([ 0.,  5., 10.])"
      ]
     },
     "execution_count": 21,
     "metadata": {},
     "output_type": "execute_result"
    }
   ],
   "source": [
    "np.linspace(0,10,3)"
   ]
  },
  {
   "cell_type": "code",
   "execution_count": 100,
   "id": "74cceb78-408d-4cf7-9036-76761c8f6fa4",
   "metadata": {},
   "outputs": [
    {
     "data": {
      "text/plain": [
       "array([0.80159045, 0.88302596, 0.49087237, 0.21223044, 0.19220681])"
      ]
     },
     "execution_count": 100,
     "metadata": {},
     "output_type": "execute_result"
    }
   ],
   "source": [
    "np.random.rand(5) #numeros aleatorios que seguem uma distribuicao uniforme ou seja tem probabilidade igual de serem selecionados"
   ]
  },
  {
   "cell_type": "code",
   "execution_count": 101,
   "id": "232761e6-00e3-4706-b58b-05362874972f",
   "metadata": {},
   "outputs": [
    {
     "data": {
      "text/plain": [
       "array([[0.25140027, 0.28332013, 0.50432746, 0.6707957 ],\n",
       "       [0.3342469 , 0.00611267, 0.84607608, 0.22522353],\n",
       "       [0.35982354, 0.01105884, 0.35507247, 0.36981922],\n",
       "       [0.02300042, 0.16584144, 0.42251267, 0.29479425],\n",
       "       [0.02595577, 0.16379586, 0.99795842, 0.60383757]])"
      ]
     },
     "execution_count": 101,
     "metadata": {},
     "output_type": "execute_result"
    }
   ],
   "source": [
    "np.random.rand(5,4)"
   ]
  },
  {
   "cell_type": "code",
   "execution_count": 102,
   "id": "c2b14ad2-ae89-4f51-8c3e-e094e3d77f17",
   "metadata": {},
   "outputs": [
    {
     "data": {
      "text/plain": [
       "array([0.52965019, 0.26426511, 3.05921354, 1.51740468])"
      ]
     },
     "execution_count": 102,
     "metadata": {},
     "output_type": "execute_result"
    }
   ],
   "source": [
    "np.random.randn(4) #distribuicao normal (mais relevnates do que a uniforme)"
   ]
  },
  {
   "cell_type": "code",
   "execution_count": 28,
   "id": "0a455cf8-3705-4048-ace0-48dad278ddb5",
   "metadata": {},
   "outputs": [
    {
     "data": {
      "text/plain": [
       "array([59, 27, 35, 20, 29, 33, 83, 10, 23, 43])"
      ]
     },
     "execution_count": 28,
     "metadata": {},
     "output_type": "execute_result"
    }
   ],
   "source": [
    "np.random.randint(0,100,10)"
   ]
  },
  {
   "cell_type": "code",
   "execution_count": 30,
   "id": "d8fcca9b-3cba-4703-891a-93893f32abcb",
   "metadata": {},
   "outputs": [
    {
     "data": {
      "text/plain": [
       "array([37., 97., 91., 49., 90., 25.])"
      ]
     },
     "execution_count": 30,
     "metadata": {},
     "output_type": "execute_result"
    }
   ],
   "source": [
    "np.round(np.random.rand(6)*100,0)"
   ]
  },
  {
   "cell_type": "code",
   "execution_count": 32,
   "id": "26919de6-af9c-4742-8447-25c831946c63",
   "metadata": {},
   "outputs": [
    {
     "data": {
      "text/plain": [
       "array([0.616024  , 0.01746944, 0.95920813, 0.12195968, 0.57538881,\n",
       "       0.00235306, 0.79863833, 0.06217284, 0.46497332, 0.27886377,\n",
       "       0.6965368 , 0.51411277, 0.91429166, 0.71571799, 0.48592235,\n",
       "       0.57216108, 0.77208392, 0.87397884, 0.05363946, 0.32656477,\n",
       "       0.87780464, 0.49764481, 0.58467733, 0.22724345, 0.59614079])"
      ]
     },
     "execution_count": 32,
     "metadata": {},
     "output_type": "execute_result"
    }
   ],
   "source": [
    "arr = np.random.rand(25)\n",
    "arr"
   ]
  },
  {
   "cell_type": "code",
   "execution_count": 36,
   "id": "967ba256-d6c8-4ed4-95f8-77257254cecf",
   "metadata": {},
   "outputs": [],
   "source": [
    "arrm = arr.reshape((5,5)) #deixou de ser um vetor de tamanho 25 e passou a ser uma matriz 5 por 5"
   ]
  },
  {
   "cell_type": "code",
   "execution_count": 37,
   "id": "8836fe31-1874-416c-86bd-722c53709181",
   "metadata": {},
   "outputs": [
    {
     "data": {
      "text/plain": [
       "(5, 5)"
      ]
     },
     "execution_count": 37,
     "metadata": {},
     "output_type": "execute_result"
    }
   ],
   "source": [
    "arrm.shape"
   ]
  },
  {
   "cell_type": "code",
   "execution_count": 39,
   "id": "da0b2bc0-96a2-4c43-abb9-23eb3d6345fc",
   "metadata": {},
   "outputs": [
    {
     "data": {
      "text/plain": [
       "0.9592081278277054"
      ]
     },
     "execution_count": 39,
     "metadata": {},
     "output_type": "execute_result"
    }
   ],
   "source": [
    "arrm.max()"
   ]
  },
  {
   "cell_type": "code",
   "execution_count": 40,
   "id": "9ba6bb70-8379-49e6-91b6-991976ac306e",
   "metadata": {},
   "outputs": [
    {
     "data": {
      "text/plain": [
       "0.002353056284244648"
      ]
     },
     "execution_count": 40,
     "metadata": {},
     "output_type": "execute_result"
    }
   ],
   "source": [
    "arrm.min()"
   ]
  },
  {
   "cell_type": "code",
   "execution_count": 42,
   "id": "d4f3c172-b0da-4ca0-a240-aaedcc194b60",
   "metadata": {},
   "outputs": [
    {
     "data": {
      "text/plain": [
       "2"
      ]
     },
     "execution_count": 42,
     "metadata": {},
     "output_type": "execute_result"
    }
   ],
   "source": [
    "arrm.argmax()"
   ]
  },
  {
   "cell_type": "code",
   "execution_count": 43,
   "id": "6adc8938-ab5a-499d-828b-68ee7c48a885",
   "metadata": {},
   "outputs": [
    {
     "data": {
      "text/plain": [
       "5"
      ]
     },
     "execution_count": 43,
     "metadata": {},
     "output_type": "execute_result"
    }
   ],
   "source": [
    "arrm.argmin()"
   ]
  },
  {
   "cell_type": "markdown",
   "id": "0b9137d0-3917-4586-8d1b-9e5821ddb27b",
   "metadata": {},
   "source": [
    "### Indexacao e Fatiamento de arrays"
   ]
  },
  {
   "cell_type": "code",
   "execution_count": 76,
   "id": "587afc54-c7f3-4246-a27c-ead02cab0de8",
   "metadata": {},
   "outputs": [
    {
     "data": {
      "text/plain": [
       "array([ 0,  3,  6,  9, 12, 15, 18, 21, 24, 27])"
      ]
     },
     "execution_count": 76,
     "metadata": {},
     "output_type": "execute_result"
    }
   ],
   "source": [
    "\n",
    "array = np.arange(0,30,3)\n",
    "array"
   ]
  },
  {
   "cell_type": "code",
   "execution_count": 46,
   "id": "fbd96520-5736-457c-97e9-4d1d115b58e6",
   "metadata": {},
   "outputs": [
    {
     "data": {
      "text/plain": [
       "9"
      ]
     },
     "execution_count": 46,
     "metadata": {},
     "output_type": "execute_result"
    }
   ],
   "source": [
    "array[3]"
   ]
  },
  {
   "cell_type": "code",
   "execution_count": 47,
   "id": "c936f375-5d81-4c19-81eb-c1a4826d885e",
   "metadata": {},
   "outputs": [
    {
     "data": {
      "text/plain": [
       "array([ 6,  9, 12])"
      ]
     },
     "execution_count": 47,
     "metadata": {},
     "output_type": "execute_result"
    }
   ],
   "source": [
    "array[2:5]"
   ]
  },
  {
   "cell_type": "code",
   "execution_count": 49,
   "id": "8a42aad6-32f0-4556-95fd-0773bea5bd17",
   "metadata": {},
   "outputs": [
    {
     "data": {
      "text/plain": [
       "array([ 0,  3,  6,  9, 12])"
      ]
     },
     "execution_count": 49,
     "metadata": {},
     "output_type": "execute_result"
    }
   ],
   "source": [
    "array[:5] # todos os elementos ate o elemento 5"
   ]
  },
  {
   "cell_type": "code",
   "execution_count": 52,
   "id": "44cdd4a8-988b-497f-931b-ae5b36e4c733",
   "metadata": {},
   "outputs": [
    {
     "data": {
      "text/plain": [
       "array([ 6,  9, 12, 15, 18, 21, 24, 27])"
      ]
     },
     "execution_count": 52,
     "metadata": {},
     "output_type": "execute_result"
    }
   ],
   "source": [
    "array[2:] # todos os elementos após o elemento  de indice 2, incluso ele"
   ]
  },
  {
   "cell_type": "code",
   "execution_count": 53,
   "id": "177d8735-dc11-47e0-a75f-1cfd30c933e6",
   "metadata": {},
   "outputs": [
    {
     "data": {
      "text/plain": [
       "array([  0,   3, 100, 100, 100, 100, 100, 100, 100, 100])"
      ]
     },
     "execution_count": 53,
     "metadata": {},
     "output_type": "execute_result"
    }
   ],
   "source": [
    "array[2:]=100\n",
    "array"
   ]
  },
  {
   "cell_type": "code",
   "execution_count": 54,
   "id": "e2d70c91-8c09-45b0-9de3-1ca108aa8249",
   "metadata": {},
   "outputs": [
    {
     "data": {
      "text/plain": [
       "array([[ 0,  1,  2,  3,  4,  5,  6,  7,  8,  9],\n",
       "       [10, 11, 12, 13, 14, 15, 16, 17, 18, 19],\n",
       "       [20, 21, 22, 23, 24, 25, 26, 27, 28, 29],\n",
       "       [30, 31, 32, 33, 34, 35, 36, 37, 38, 39],\n",
       "       [40, 41, 42, 43, 44, 45, 46, 47, 48, 49]])"
      ]
     },
     "execution_count": 54,
     "metadata": {},
     "output_type": "execute_result"
    }
   ],
   "source": [
    "array = np.arange(50).reshape((5,10))\n",
    "array"
   ]
  },
  {
   "cell_type": "code",
   "execution_count": 55,
   "id": "e9f84582-9614-47e0-8f4a-9ca6182b664a",
   "metadata": {},
   "outputs": [
    {
     "data": {
      "text/plain": [
       "(5, 10)"
      ]
     },
     "execution_count": 55,
     "metadata": {},
     "output_type": "execute_result"
    }
   ],
   "source": [
    "array.shape"
   ]
  },
  {
   "cell_type": "code",
   "execution_count": 57,
   "id": "d1d39ec9-7eb7-4f5b-84d1-a53ca52bac9a",
   "metadata": {},
   "outputs": [
    {
     "data": {
      "text/plain": [
       "array([[ 0,  1,  2,  3,  4,  5,  6,  7,  8,  9],\n",
       "       [10, 11, 12, 13, 14, 15, 16, 17, 18, 19],\n",
       "       [20, 21, 22, 23, 24, 25, 26, 27, 28, 29],\n",
       "       [30, 31, 32, 33, 34, 35, 36, 37, 38, 39]])"
      ]
     },
     "execution_count": 57,
     "metadata": {},
     "output_type": "execute_result"
    }
   ],
   "source": [
    "array[:4][:] # array ate a linha 3 e todas as colunas"
   ]
  },
  {
   "cell_type": "code",
   "execution_count": 58,
   "id": "da14ad3c-7df2-42d3-9766-31c8c98c98eb",
   "metadata": {},
   "outputs": [
    {
     "data": {
      "text/plain": [
       "array([[ 0,  1,  2,  3,  4,  5,  6,  7,  8,  9],\n",
       "       [10, 11, 12, 13, 14, 15, 16, 17, 18, 19],\n",
       "       [20, 21, 22, 23, 24, 25, 26, 27, 28, 29]])"
      ]
     },
     "execution_count": 58,
     "metadata": {},
     "output_type": "execute_result"
    }
   ],
   "source": [
    "array2 = array[:3]\n",
    "array2"
   ]
  },
  {
   "cell_type": "code",
   "execution_count": 59,
   "id": "0920ac51-a293-495c-abcb-31951221d1c5",
   "metadata": {},
   "outputs": [
    {
     "data": {
      "text/plain": [
       "array([[100, 100, 100, 100, 100, 100, 100, 100, 100, 100],\n",
       "       [100, 100, 100, 100, 100, 100, 100, 100, 100, 100],\n",
       "       [100, 100, 100, 100, 100, 100, 100, 100, 100, 100]])"
      ]
     },
     "execution_count": 59,
     "metadata": {},
     "output_type": "execute_result"
    }
   ],
   "source": [
    "array2[:] = 100\n",
    "array2"
   ]
  },
  {
   "cell_type": "code",
   "execution_count": 60,
   "id": "144d98b0-9d6c-4ccc-91bd-dc3d9facd525",
   "metadata": {},
   "outputs": [
    {
     "data": {
      "text/plain": [
       "array([[100, 100, 100, 100, 100, 100, 100, 100, 100, 100],\n",
       "       [100, 100, 100, 100, 100, 100, 100, 100, 100, 100],\n",
       "       [100, 100, 100, 100, 100, 100, 100, 100, 100, 100],\n",
       "       [ 30,  31,  32,  33,  34,  35,  36,  37,  38,  39],\n",
       "       [ 40,  41,  42,  43,  44,  45,  46,  47,  48,  49]])"
      ]
     },
     "execution_count": 60,
     "metadata": {},
     "output_type": "execute_result"
    }
   ],
   "source": [
    "array"
   ]
  },
  {
   "cell_type": "code",
   "execution_count": 61,
   "id": "96aef2ce-56ab-4997-9f5e-4e83705f6705",
   "metadata": {},
   "outputs": [],
   "source": [
    "array2 = array[:3].copy()"
   ]
  },
  {
   "cell_type": "code",
   "execution_count": 62,
   "id": "d3c7c203-51ef-4b1d-b907-480c41adbba0",
   "metadata": {},
   "outputs": [
    {
     "data": {
      "text/plain": [
       "array([[100, 100, 100, 100, 100, 100, 100, 100, 100, 100],\n",
       "       [100, 100, 100, 100, 100, 100, 100, 100, 100, 100],\n",
       "       [100, 100, 100, 100, 100, 100, 100, 100, 100, 100],\n",
       "       [ 30,  31,  32,  33,  34,  35,  36,  37,  38,  39],\n",
       "       [ 40,  41,  42,  43,  44,  45,  46,  47,  48,  49]])"
      ]
     },
     "execution_count": 62,
     "metadata": {},
     "output_type": "execute_result"
    }
   ],
   "source": [
    "array"
   ]
  },
  {
   "cell_type": "code",
   "execution_count": 68,
   "id": "e5f40a47-184e-4dc9-b3ef-ef3665e02cb0",
   "metadata": {},
   "outputs": [
    {
     "data": {
      "text/plain": [
       "array([[100, 100, 100, 100, 100],\n",
       "       [100, 100, 100, 100, 100],\n",
       "       [ 35,  36,  37,  38,  39]])"
      ]
     },
     "execution_count": 68,
     "metadata": {},
     "output_type": "execute_result"
    }
   ],
   "source": [
    "array[1:4,5:]"
   ]
  },
  {
   "cell_type": "code",
   "execution_count": 70,
   "id": "a94b9f1f-7ada-453d-947e-271e437cfec9",
   "metadata": {},
   "outputs": [],
   "source": [
    "bool = array > 50"
   ]
  },
  {
   "cell_type": "code",
   "execution_count": 71,
   "id": "acd0b359-9577-434b-934b-71bce383a173",
   "metadata": {},
   "outputs": [
    {
     "data": {
      "text/plain": [
       "array([100, 100, 100, 100, 100, 100, 100, 100, 100, 100, 100, 100, 100,\n",
       "       100, 100, 100, 100, 100, 100, 100, 100, 100, 100, 100, 100, 100,\n",
       "       100, 100, 100, 100])"
      ]
     },
     "execution_count": 71,
     "metadata": {},
     "output_type": "execute_result"
    }
   ],
   "source": [
    "array[bool]"
   ]
  },
  {
   "cell_type": "code",
   "execution_count": 72,
   "id": "8d460d82-282e-4e37-9164-483c60c35de1",
   "metadata": {},
   "outputs": [
    {
     "data": {
      "text/plain": [
       "(30,)"
      ]
     },
     "execution_count": 72,
     "metadata": {},
     "output_type": "execute_result"
    }
   ],
   "source": [
    "arr3 = np.linspace(0,100,30)\n",
    "arr3.shape"
   ]
  },
  {
   "cell_type": "code",
   "execution_count": 74,
   "id": "036dde4c-9e9a-4ff8-8d0f-9a45aafbae2c",
   "metadata": {},
   "outputs": [
    {
     "data": {
      "text/plain": [
       "array([[  0.        ,   3.44827586,   6.89655172,  10.34482759,\n",
       "         13.79310345,  17.24137931,  20.68965517,  24.13793103,\n",
       "         27.5862069 ,  31.03448276],\n",
       "       [ 34.48275862,  37.93103448,  41.37931034,  44.82758621,\n",
       "         48.27586207,  51.72413793,  55.17241379,  58.62068966,\n",
       "         62.06896552,  65.51724138],\n",
       "       [ 68.96551724,  72.4137931 ,  75.86206897,  79.31034483,\n",
       "         82.75862069,  86.20689655,  89.65517241,  93.10344828,\n",
       "         96.55172414, 100.        ]])"
      ]
     },
     "execution_count": 74,
     "metadata": {},
     "output_type": "execute_result"
    }
   ],
   "source": [
    "arr3 = arr3.reshape(3,10)\n",
    "arr3"
   ]
  },
  {
   "cell_type": "code",
   "execution_count": 75,
   "id": "9e237275-0700-4382-9107-35463a6ee56d",
   "metadata": {},
   "outputs": [
    {
     "data": {
      "text/plain": [
       "array([ 6.89655172, 41.37931034])"
      ]
     },
     "execution_count": 75,
     "metadata": {},
     "output_type": "execute_result"
    }
   ],
   "source": [
    "arr3[0:2,2]"
   ]
  },
  {
   "cell_type": "markdown",
   "id": "0132c997-52bf-4c8e-bfc6-b0c68aff2861",
   "metadata": {},
   "source": [
    "### Operacoes com Numpy Arrays"
   ]
  },
  {
   "cell_type": "code",
   "execution_count": 77,
   "id": "fba59ac5-4329-4000-87c0-9dfb5245179d",
   "metadata": {},
   "outputs": [
    {
     "data": {
      "text/plain": [
       "array([ 0,  1,  2,  3,  4,  5,  6,  7,  8,  9, 10, 11, 12, 13, 14, 15])"
      ]
     },
     "execution_count": 77,
     "metadata": {},
     "output_type": "execute_result"
    }
   ],
   "source": [
    "ar = np.arange(0,16)\n",
    "ar"
   ]
  },
  {
   "cell_type": "code",
   "execution_count": 78,
   "id": "b3c9744c-49bf-4c92-8635-0fbd4fe610b7",
   "metadata": {},
   "outputs": [
    {
     "data": {
      "text/plain": [
       "array([ 0,  2,  4,  6,  8, 10, 12, 14, 16, 18, 20, 22, 24, 26, 28, 30])"
      ]
     },
     "execution_count": 78,
     "metadata": {},
     "output_type": "execute_result"
    }
   ],
   "source": [
    "ar + ar"
   ]
  },
  {
   "cell_type": "code",
   "execution_count": 80,
   "id": "23884209-222f-460c-81dd-5eb4a91d5659",
   "metadata": {},
   "outputs": [
    {
     "data": {
      "text/plain": [
       "array([0, 0, 0, 0, 0, 0, 0, 0, 0, 0, 0, 0, 0, 0, 0, 0])"
      ]
     },
     "execution_count": 80,
     "metadata": {},
     "output_type": "execute_result"
    }
   ],
   "source": [
    "ar - ar"
   ]
  },
  {
   "cell_type": "code",
   "execution_count": 81,
   "id": "67a684ec-b643-40ce-8f4c-187055aa449b",
   "metadata": {},
   "outputs": [
    {
     "data": {
      "text/plain": [
       "array([  0,   1,   4,   9,  16,  25,  36,  49,  64,  81, 100, 121, 144,\n",
       "       169, 196, 225])"
      ]
     },
     "execution_count": 81,
     "metadata": {},
     "output_type": "execute_result"
    }
   ],
   "source": [
    "ar * ar"
   ]
  },
  {
   "cell_type": "code",
   "execution_count": 82,
   "id": "a124368d-7c3b-4d3e-89fd-5be4b2f8aa6d",
   "metadata": {},
   "outputs": [
    {
     "name": "stderr",
     "output_type": "stream",
     "text": [
      "C:\\Users\\Beatriz Almeida\\AppData\\Local\\Temp\\ipykernel_8476\\1071685828.py:1: RuntimeWarning: invalid value encountered in divide\n",
      "  ar / ar\n"
     ]
    },
    {
     "data": {
      "text/plain": [
       "array([nan,  1.,  1.,  1.,  1.,  1.,  1.,  1.,  1.,  1.,  1.,  1.,  1.,\n",
       "        1.,  1.,  1.])"
      ]
     },
     "execution_count": 82,
     "metadata": {},
     "output_type": "execute_result"
    }
   ],
   "source": [
    "ar / ar"
   ]
  },
  {
   "cell_type": "code",
   "execution_count": 83,
   "id": "9bff6ab6-4ef0-4110-b56a-c676f68c2237",
   "metadata": {},
   "outputs": [
    {
     "data": {
      "text/plain": [
       "array([  0,   1,   4,   9,  16,  25,  36,  49,  64,  81, 100, 121, 144,\n",
       "       169, 196, 225])"
      ]
     },
     "execution_count": 83,
     "metadata": {},
     "output_type": "execute_result"
    }
   ],
   "source": [
    "ar ** 2"
   ]
  },
  {
   "cell_type": "code",
   "execution_count": 84,
   "id": "154f3c59-de08-4b6f-9ad9-e1b36e46e7f5",
   "metadata": {},
   "outputs": [
    {
     "data": {
      "text/plain": [
       "array([100, 101, 102, 103, 104, 105, 106, 107, 108, 109, 110, 111, 112,\n",
       "       113, 114, 115])"
      ]
     },
     "execution_count": 84,
     "metadata": {},
     "output_type": "execute_result"
    }
   ],
   "source": [
    "ar + 100"
   ]
  },
  {
   "cell_type": "code",
   "execution_count": 85,
   "id": "39fd4b88-c33b-4e87-a0d2-9cc3bf561dae",
   "metadata": {},
   "outputs": [
    {
     "data": {
      "text/plain": [
       "array([   0,  100,  200,  300,  400,  500,  600,  700,  800,  900, 1000,\n",
       "       1100, 1200, 1300, 1400, 1500])"
      ]
     },
     "execution_count": 85,
     "metadata": {},
     "output_type": "execute_result"
    }
   ],
   "source": [
    "ar * 100"
   ]
  },
  {
   "cell_type": "code",
   "execution_count": 86,
   "id": "555d5661-fb4f-4224-97d9-306a996a9716",
   "metadata": {},
   "outputs": [
    {
     "data": {
      "text/plain": [
       "array([-100,  -99,  -98,  -97,  -96,  -95,  -94,  -93,  -92,  -91,  -90,\n",
       "        -89,  -88,  -87,  -86,  -85])"
      ]
     },
     "execution_count": 86,
     "metadata": {},
     "output_type": "execute_result"
    }
   ],
   "source": [
    "ar - 100"
   ]
  },
  {
   "cell_type": "code",
   "execution_count": 87,
   "id": "06060040-1905-450d-9329-afe3de07bf76",
   "metadata": {},
   "outputs": [
    {
     "data": {
      "text/plain": [
       "array([0.  , 0.01, 0.02, 0.03, 0.04, 0.05, 0.06, 0.07, 0.08, 0.09, 0.1 ,\n",
       "       0.11, 0.12, 0.13, 0.14, 0.15])"
      ]
     },
     "execution_count": 87,
     "metadata": {},
     "output_type": "execute_result"
    }
   ],
   "source": [
    "ar / 100"
   ]
  },
  {
   "cell_type": "code",
   "execution_count": 88,
   "id": "8b096924-ce71-4b62-b9e9-4c1abaa9ba04",
   "metadata": {},
   "outputs": [
    {
     "data": {
      "text/plain": [
       "array([0.        , 1.        , 1.41421356, 1.73205081, 2.        ,\n",
       "       2.23606798, 2.44948974, 2.64575131, 2.82842712, 3.        ,\n",
       "       3.16227766, 3.31662479, 3.46410162, 3.60555128, 3.74165739,\n",
       "       3.87298335])"
      ]
     },
     "execution_count": 88,
     "metadata": {},
     "output_type": "execute_result"
    }
   ],
   "source": [
    "np.sqrt(ar)"
   ]
  },
  {
   "cell_type": "code",
   "execution_count": 89,
   "id": "6272a535-0047-41f3-a1a9-13a1d4a2f9e3",
   "metadata": {},
   "outputs": [
    {
     "data": {
      "text/plain": [
       "array([1.00000000e+00, 2.71828183e+00, 7.38905610e+00, 2.00855369e+01,\n",
       "       5.45981500e+01, 1.48413159e+02, 4.03428793e+02, 1.09663316e+03,\n",
       "       2.98095799e+03, 8.10308393e+03, 2.20264658e+04, 5.98741417e+04,\n",
       "       1.62754791e+05, 4.42413392e+05, 1.20260428e+06, 3.26901737e+06])"
      ]
     },
     "execution_count": 89,
     "metadata": {},
     "output_type": "execute_result"
    }
   ],
   "source": [
    "np.exp(ar)"
   ]
  },
  {
   "cell_type": "code",
   "execution_count": 90,
   "id": "ff50f42f-c931-493c-abf3-2ce529c9a3e3",
   "metadata": {},
   "outputs": [
    {
     "data": {
      "text/plain": [
       "7.5"
      ]
     },
     "execution_count": 90,
     "metadata": {},
     "output_type": "execute_result"
    }
   ],
   "source": [
    "np.mean(ar)"
   ]
  },
  {
   "cell_type": "code",
   "execution_count": 91,
   "id": "36d3540a-b755-4586-8268-1d5fae9b6894",
   "metadata": {},
   "outputs": [
    {
     "data": {
      "text/plain": [
       "7.5"
      ]
     },
     "execution_count": 91,
     "metadata": {},
     "output_type": "execute_result"
    }
   ],
   "source": [
    "np.median(ar)"
   ]
  },
  {
   "cell_type": "code",
   "execution_count": 92,
   "id": "6eb5c8fe-f5c5-4f2b-a728-26468d06e35f",
   "metadata": {},
   "outputs": [
    {
     "data": {
      "text/plain": [
       "4.6097722286464435"
      ]
     },
     "execution_count": 92,
     "metadata": {},
     "output_type": "execute_result"
    }
   ],
   "source": [
    "np.std(ar)"
   ]
  },
  {
   "cell_type": "code",
   "execution_count": 93,
   "id": "d108d445-b789-45c2-b749-8754d8216a26",
   "metadata": {},
   "outputs": [
    {
     "data": {
      "text/plain": [
       "array([ 0.        ,  0.84147098,  0.90929743,  0.14112001, -0.7568025 ,\n",
       "       -0.95892427, -0.2794155 ,  0.6569866 ,  0.98935825,  0.41211849,\n",
       "       -0.54402111, -0.99999021, -0.53657292,  0.42016704,  0.99060736,\n",
       "        0.65028784])"
      ]
     },
     "execution_count": 93,
     "metadata": {},
     "output_type": "execute_result"
    }
   ],
   "source": [
    "np.sin(ar)"
   ]
  },
  {
   "cell_type": "code",
   "execution_count": 94,
   "id": "ba6fee71-48de-4f72-ae95-bcb29b978f1e",
   "metadata": {},
   "outputs": [
    {
     "data": {
      "text/plain": [
       "15"
      ]
     },
     "execution_count": 94,
     "metadata": {},
     "output_type": "execute_result"
    }
   ],
   "source": [
    "np.max(ar)"
   ]
  },
  {
   "cell_type": "code",
   "execution_count": 95,
   "id": "2e58b0ba-a725-41ff-ac6c-ed228f6662ce",
   "metadata": {},
   "outputs": [
    {
     "data": {
      "text/plain": [
       "15"
      ]
     },
     "execution_count": 95,
     "metadata": {},
     "output_type": "execute_result"
    }
   ],
   "source": [
    "ar.max()"
   ]
  },
  {
   "cell_type": "markdown",
   "id": "637ec7e1-0b2d-4c26-9616-d24544730e63",
   "metadata": {},
   "source": [
    "----"
   ]
  },
  {
   "cell_type": "markdown",
   "id": "bd33c737-965f-4f75-9eba-899aae55b04d",
   "metadata": {},
   "source": [
    "---"
   ]
  },
  {
   "cell_type": "markdown",
   "id": "af91a6c1-20ef-4f97-869d-5b5121fec4ea",
   "metadata": {},
   "source": [
    "## Exercicios NumPy"
   ]
  },
  {
   "cell_type": "markdown",
   "id": "db375dd0-6145-4c3c-baf9-522ccd2f2f5c",
   "metadata": {},
   "source": [
    "#### Importar NumPy como np"
   ]
  },
  {
   "cell_type": "code",
   "execution_count": 96,
   "id": "b3c55ebe-e65c-4af3-bae8-0f9366c6bccc",
   "metadata": {},
   "outputs": [],
   "source": [
    "import numpy as np"
   ]
  },
  {
   "cell_type": "markdown",
   "id": "c59420a6-f595-4d83-aa11-22643fb6b0eb",
   "metadata": {},
   "source": [
    "#### Criar matriz de 10 zeros"
   ]
  },
  {
   "cell_type": "code",
   "execution_count": 98,
   "id": "3c3546f6-588b-4513-a553-dc281e259eac",
   "metadata": {},
   "outputs": [
    {
     "data": {
      "text/plain": [
       "array([0., 0., 0., 0., 0., 0., 0., 0., 0., 0.])"
      ]
     },
     "execution_count": 98,
     "metadata": {},
     "output_type": "execute_result"
    }
   ],
   "source": [
    "zeros = np.zeros(10)\n",
    "zeros"
   ]
  },
  {
   "cell_type": "markdown",
   "id": "46e8f1e4-7cb4-431e-b4a7-24677f4decad",
   "metadata": {},
   "source": [
    "#### Criar matriz de 10 ones"
   ]
  },
  {
   "cell_type": "code",
   "execution_count": 99,
   "id": "37270252-f214-4f4e-94ef-9888621ed6e7",
   "metadata": {},
   "outputs": [
    {
     "data": {
      "text/plain": [
       "array([1., 1., 1., 1., 1., 1., 1., 1., 1., 1.])"
      ]
     },
     "execution_count": 99,
     "metadata": {},
     "output_type": "execute_result"
    }
   ],
   "source": [
    "ones = np.ones(10)\n",
    "ones"
   ]
  },
  {
   "cell_type": "markdown",
   "id": "fdfde684-f755-4d8a-abe3-8b559ba0a5c1",
   "metadata": {},
   "source": [
    "#### Criar matriz de 10 cincos\n"
   ]
  },
  {
   "cell_type": "code",
   "execution_count": 3,
   "id": "8a2cef3d-3017-4bb9-9665-6b69e738a0f8",
   "metadata": {},
   "outputs": [
    {
     "data": {
      "text/plain": [
       "array([5., 5., 5., 5., 5., 5., 5., 5., 5., 5.])"
      ]
     },
     "execution_count": 3,
     "metadata": {},
     "output_type": "execute_result"
    }
   ],
   "source": [
    "ones = np.ones(10) * 5\n",
    "ones"
   ]
  },
  {
   "cell_type": "markdown",
   "id": "8c754784-5b39-4b93-86a7-ff398ae5fbe5",
   "metadata": {},
   "source": [
    "#### Crie um array de inteiros de 10 até 50"
   ]
  },
  {
   "cell_type": "code",
   "execution_count": 4,
   "id": "634b141d-6831-412e-9a6e-c23ca15a4d92",
   "metadata": {},
   "outputs": [
    {
     "data": {
      "text/plain": [
       "array([10, 11, 12, 13, 14, 15, 16, 17, 18, 19, 20, 21, 22, 23, 24, 25, 26,\n",
       "       27, 28, 29, 30, 31, 32, 33, 34, 35, 36, 37, 38, 39, 40, 41, 42, 43,\n",
       "       44, 45, 46, 47, 48, 49, 50])"
      ]
     },
     "execution_count": 4,
     "metadata": {},
     "output_type": "execute_result"
    }
   ],
   "source": [
    "np.arange(10,51) "
   ]
  },
  {
   "cell_type": "markdown",
   "id": "d2236b93-c168-4934-978d-a6f8edbcad4b",
   "metadata": {},
   "source": [
    "#### Crie um array dos numeros pares de 10 até 50"
   ]
  },
  {
   "cell_type": "code",
   "execution_count": 5,
   "id": "3268691c-8368-4552-ab61-2bc6762a14e5",
   "metadata": {},
   "outputs": [
    {
     "data": {
      "text/plain": [
       "array([10, 12, 14, 16, 18, 20, 22, 24, 26, 28, 30, 32, 34, 36, 38, 40, 42,\n",
       "       44, 46, 48, 50])"
      ]
     },
     "execution_count": 5,
     "metadata": {},
     "output_type": "execute_result"
    }
   ],
   "source": [
    "np.arange(10,51,2) "
   ]
  },
  {
   "cell_type": "markdown",
   "id": "1a057271-28f9-408c-9866-dcb81accd900",
   "metadata": {},
   "source": [
    "#### Criar matriz 3x3 com valores variando de 0 ate 8 "
   ]
  },
  {
   "cell_type": "code",
   "execution_count": 6,
   "id": "68db279a-5a29-4fd7-b6ea-f38a129c9ec9",
   "metadata": {},
   "outputs": [
    {
     "data": {
      "text/plain": [
       "array([[0, 1, 2],\n",
       "       [3, 4, 5],\n",
       "       [6, 7, 8]])"
      ]
     },
     "execution_count": 6,
     "metadata": {},
     "output_type": "execute_result"
    }
   ],
   "source": [
    "np.arange(0,9).reshape((3,3))"
   ]
  },
  {
   "cell_type": "markdown",
   "id": "7ea032c5-3f2b-45c4-a469-d18067a1546b",
   "metadata": {},
   "source": [
    "#### Criar matriz identidade 3x3"
   ]
  },
  {
   "cell_type": "code",
   "execution_count": 8,
   "id": "1d379e31-0b10-409c-aa13-46ca1644c589",
   "metadata": {},
   "outputs": [
    {
     "data": {
      "text/plain": [
       "array([[1., 0., 0.],\n",
       "       [0., 1., 0.],\n",
       "       [0., 0., 1.]])"
      ]
     },
     "execution_count": 8,
     "metadata": {},
     "output_type": "execute_result"
    }
   ],
   "source": [
    "np.eye(3)"
   ]
  },
  {
   "cell_type": "markdown",
   "id": "8851c2ca-4633-48af-9154-c4cb2e84ed32",
   "metadata": {},
   "source": [
    "#### Usar numpy para gerar numeros aleatorios entre 0 e 1"
   ]
  },
  {
   "cell_type": "code",
   "execution_count": 9,
   "id": "a4778564-8cf5-402a-a847-49d1bf527e3c",
   "metadata": {},
   "outputs": [
    {
     "data": {
      "text/plain": [
       "array([0.10552761])"
      ]
     },
     "execution_count": 9,
     "metadata": {},
     "output_type": "execute_result"
    }
   ],
   "source": [
    "np.random.rand(1)"
   ]
  },
  {
   "cell_type": "markdown",
   "id": "6a0e2b6a-edb4-4c5c-9664-4b02c2b187a9",
   "metadata": {},
   "source": [
    "#### Usar numpy para gerar array de 25 numeros aleatorios tirados de uma distribuicao normal"
   ]
  },
  {
   "cell_type": "code",
   "execution_count": 10,
   "id": "ecca6a36-a29b-4531-84ef-05bed4614b55",
   "metadata": {},
   "outputs": [
    {
     "data": {
      "text/plain": [
       "array([-1.06283630e+00, -2.69621083e-01,  7.89181725e-01,  9.51516017e-01,\n",
       "        1.75182754e+00, -2.82803804e-02,  1.21036841e+00,  4.73070584e-02,\n",
       "       -1.88134364e-01, -3.47530021e-05,  1.40309980e+00, -1.48699282e-01,\n",
       "       -4.10363468e-01,  1.06110847e+00, -3.84613551e-01, -1.23621344e+00,\n",
       "        7.37273481e-01, -6.66951561e-01, -7.81167193e-02, -9.89682457e-01,\n",
       "        4.31183322e-01,  1.26687052e+00, -3.14425391e-01, -1.30733547e+00,\n",
       "        4.01309844e-01])"
      ]
     },
     "execution_count": 10,
     "metadata": {},
     "output_type": "execute_result"
    }
   ],
   "source": [
    "np.random.randn(25)"
   ]
  },
  {
   "cell_type": "markdown",
   "id": "7a85916e-c74d-419a-86c1-2884331d73ce",
   "metadata": {},
   "source": [
    "#### Criar a seguinte matriz "
   ]
  },
  {
   "cell_type": "code",
   "execution_count": 11,
   "id": "7fe52f76-d442-45f1-b3f2-11d7b9c69140",
   "metadata": {},
   "outputs": [
    {
     "data": {
      "text/plain": [
       "array([0.01, 0.02, 0.03, 0.04, 0.05, 0.06, 0.07, 0.08, 0.09, 0.1 , 0.11,\n",
       "       0.12, 0.13, 0.14, 0.15, 0.16, 0.17, 0.18, 0.19, 0.2 , 0.21, 0.22,\n",
       "       0.23, 0.24, 0.25, 0.26, 0.27, 0.28, 0.29, 0.3 , 0.31, 0.32, 0.33,\n",
       "       0.34, 0.35, 0.36, 0.37, 0.38, 0.39, 0.4 , 0.41, 0.42, 0.43, 0.44,\n",
       "       0.45, 0.46, 0.47, 0.48, 0.49, 0.5 , 0.51, 0.52, 0.53, 0.54, 0.55,\n",
       "       0.56, 0.57, 0.58, 0.59, 0.6 , 0.61, 0.62, 0.63, 0.64, 0.65, 0.66,\n",
       "       0.67, 0.68, 0.69, 0.7 , 0.71, 0.72, 0.73, 0.74, 0.75, 0.76, 0.77,\n",
       "       0.78, 0.79, 0.8 , 0.81, 0.82, 0.83, 0.84, 0.85, 0.86, 0.87, 0.88,\n",
       "       0.89, 0.9 , 0.91, 0.92, 0.93, 0.94, 0.95, 0.96, 0.97, 0.98, 0.99,\n",
       "       1.  ])"
      ]
     },
     "execution_count": 11,
     "metadata": {},
     "output_type": "execute_result"
    }
   ],
   "source": [
    "np.arange(1,101) / 100"
   ]
  },
  {
   "cell_type": "markdown",
   "id": "de2c207f-242f-4130-8c38-bc5f59fde2d0",
   "metadata": {},
   "source": [
    "#### Criar um array de tamanho 20 igualmente espacado entre 0 e 1"
   ]
  },
  {
   "cell_type": "code",
   "execution_count": 12,
   "id": "06e7363b-f4ab-40b5-9360-f0b601dd1814",
   "metadata": {},
   "outputs": [
    {
     "data": {
      "text/plain": [
       "array([0.        , 0.05263158, 0.10526316, 0.15789474, 0.21052632,\n",
       "       0.26315789, 0.31578947, 0.36842105, 0.42105263, 0.47368421,\n",
       "       0.52631579, 0.57894737, 0.63157895, 0.68421053, 0.73684211,\n",
       "       0.78947368, 0.84210526, 0.89473684, 0.94736842, 1.        ])"
      ]
     },
     "execution_count": 12,
     "metadata": {},
     "output_type": "execute_result"
    }
   ],
   "source": [
    "np.linspace(0,1,20)"
   ]
  },
  {
   "cell_type": "markdown",
   "id": "7554a0ff-80e7-4f22-8391-f3c428375a95",
   "metadata": {},
   "source": [
    "### Indexação Numpy e Seleção\r\n",
    "Agora você receberá algumas matrizes e será solicitado a replicar as saídas resultantes da matriz:"
   ]
  },
  {
   "cell_type": "code",
   "execution_count": 13,
   "id": "491e5925-dfe4-4b9f-af3b-4ae47b2f3b7a",
   "metadata": {},
   "outputs": [
    {
     "data": {
      "text/plain": [
       "array([[ 1,  2,  3,  4,  5],\n",
       "       [ 6,  7,  8,  9, 10],\n",
       "       [11, 12, 13, 14, 15],\n",
       "       [16, 17, 18, 19, 20],\n",
       "       [21, 22, 23, 24, 25]])"
      ]
     },
     "execution_count": 13,
     "metadata": {},
     "output_type": "execute_result"
    }
   ],
   "source": [
    "mat = np.arange(1,26).reshape(5,5)\n",
    "mat"
   ]
  },
  {
   "cell_type": "code",
   "execution_count": 14,
   "id": "512fe606-60f1-46dd-a563-45349d28a501",
   "metadata": {},
   "outputs": [
    {
     "data": {
      "text/plain": [
       "array([[12, 13, 14, 15],\n",
       "       [17, 18, 19, 20],\n",
       "       [22, 23, 24, 25]])"
      ]
     },
     "execution_count": 14,
     "metadata": {},
     "output_type": "execute_result"
    }
   ],
   "source": [
    "mat[2:,1:]"
   ]
  },
  {
   "cell_type": "code",
   "execution_count": 15,
   "id": "997958a8-eead-47fd-883d-5f9969b8fb88",
   "metadata": {},
   "outputs": [
    {
     "data": {
      "text/plain": [
       "20"
      ]
     },
     "execution_count": 15,
     "metadata": {},
     "output_type": "execute_result"
    }
   ],
   "source": [
    "mat[3,-1]"
   ]
  },
  {
   "cell_type": "code",
   "execution_count": 16,
   "id": "bce7a8f4-975b-48a1-812f-c370656c265b",
   "metadata": {},
   "outputs": [
    {
     "data": {
      "text/plain": [
       "array([[ 2],\n",
       "       [ 7],\n",
       "       [12]])"
      ]
     },
     "execution_count": 16,
     "metadata": {},
     "output_type": "execute_result"
    }
   ],
   "source": [
    "mat[ : 3, 1 ].reshape(3,1)"
   ]
  },
  {
   "cell_type": "code",
   "execution_count": 17,
   "id": "8de7a82a-c52a-4e0d-a1b2-a511b633a444",
   "metadata": {},
   "outputs": [
    {
     "data": {
      "text/plain": [
       "array([21, 22, 23, 24, 25])"
      ]
     },
     "execution_count": 17,
     "metadata": {},
     "output_type": "execute_result"
    }
   ],
   "source": [
    "mat[-1, : ]"
   ]
  },
  {
   "cell_type": "code",
   "execution_count": 18,
   "id": "87f22431-4e76-437b-be5f-e5107847a48c",
   "metadata": {},
   "outputs": [
    {
     "data": {
      "text/plain": [
       "array([[16, 17, 18, 19, 20],\n",
       "       [21, 22, 23, 24, 25]])"
      ]
     },
     "execution_count": 18,
     "metadata": {},
     "output_type": "execute_result"
    }
   ],
   "source": [
    "mat[3: , : ]"
   ]
  },
  {
   "cell_type": "markdown",
   "id": "7b2999e0-dbde-4ea1-a4ab-b711a52063a7",
   "metadata": {},
   "source": [
    "### Agora faça o seguinte"
   ]
  },
  {
   "cell_type": "markdown",
   "id": "639687ea-2af1-4c78-977d-6f2ace109083",
   "metadata": {},
   "source": [
    "#### Obter a soma de todos os valores no \"mat\""
   ]
  },
  {
   "cell_type": "code",
   "execution_count": 19,
   "id": "01830904-5b3e-4899-bbb1-cd57cc37a620",
   "metadata": {},
   "outputs": [
    {
     "data": {
      "text/plain": [
       "325"
      ]
     },
     "execution_count": 19,
     "metadata": {},
     "output_type": "execute_result"
    }
   ],
   "source": [
    "np.sum(mat)"
   ]
  },
  {
   "cell_type": "markdown",
   "id": "5839cac3-810f-4111-80c0-3febdb5f86d0",
   "metadata": {},
   "source": [
    "#### Obter o desvio padrão dos valores em mat"
   ]
  },
  {
   "cell_type": "code",
   "execution_count": null,
   "id": "dacfe047-21d5-400e-9a5d-eda595f084d4",
   "metadata": {},
   "outputs": [],
   "source": [
    "np.std(mat)"
   ]
  },
  {
   "cell_type": "markdown",
   "id": "a4c15d08-5f95-483b-9cb0-a32b44477d2a",
   "metadata": {},
   "source": [
    "#### Obter a soma de todas as colunas em mat"
   ]
  },
  {
   "cell_type": "code",
   "execution_count": 20,
   "id": "5cb8b243-2e76-4ba9-8beb-8a58c11af6e9",
   "metadata": {},
   "outputs": [
    {
     "data": {
      "text/plain": [
       "array([55, 60, 65, 70, 75])"
      ]
     },
     "execution_count": 20,
     "metadata": {},
     "output_type": "execute_result"
    }
   ],
   "source": [
    "mat.sum(axis=0)\n",
    "#axis = 0 (soma das colunas)\n",
    "#axis = 1 (soma das linhas)"
   ]
  }
 ],
 "metadata": {
  "kernelspec": {
   "display_name": "Python 3 (ipykernel)",
   "language": "python",
   "name": "python3"
  },
  "language_info": {
   "codemirror_mode": {
    "name": "ipython",
    "version": 3
   },
   "file_extension": ".py",
   "mimetype": "text/x-python",
   "name": "python",
   "nbconvert_exporter": "python",
   "pygments_lexer": "ipython3",
   "version": "3.12.4"
  }
 },
 "nbformat": 4,
 "nbformat_minor": 5
}
