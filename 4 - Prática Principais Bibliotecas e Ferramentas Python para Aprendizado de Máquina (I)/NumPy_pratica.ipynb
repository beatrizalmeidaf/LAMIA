{
 "cells": [
  {
   "cell_type": "markdown",
   "id": "bd33c737-965f-4f75-9eba-899aae55b04d",
   "metadata": {},
   "source": [
    "---"
   ]
  },
  {
   "cell_type": "markdown",
   "id": "af91a6c1-20ef-4f97-869d-5b5121fec4ea",
   "metadata": {},
   "source": [
    "## Exercicios NumPy"
   ]
  },
  {
   "cell_type": "markdown",
   "id": "db375dd0-6145-4c3c-baf9-522ccd2f2f5c",
   "metadata": {},
   "source": [
    "#### Importar NumPy como np"
   ]
  },
  {
   "cell_type": "code",
   "execution_count": 96,
   "id": "b3c55ebe-e65c-4af3-bae8-0f9366c6bccc",
   "metadata": {},
   "outputs": [],
   "source": [
    "import numpy as np"
   ]
  },
  {
   "cell_type": "markdown",
   "id": "c59420a6-f595-4d83-aa11-22643fb6b0eb",
   "metadata": {},
   "source": [
    "#### Criar matriz de 10 zeros"
   ]
  },
  {
   "cell_type": "code",
   "execution_count": 98,
   "id": "3c3546f6-588b-4513-a553-dc281e259eac",
   "metadata": {},
   "outputs": [
    {
     "data": {
      "text/plain": [
       "array([0., 0., 0., 0., 0., 0., 0., 0., 0., 0.])"
      ]
     },
     "execution_count": 98,
     "metadata": {},
     "output_type": "execute_result"
    }
   ],
   "source": [
    "zeros = np.zeros(10)\n",
    "zeros"
   ]
  },
  {
   "cell_type": "markdown",
   "id": "46e8f1e4-7cb4-431e-b4a7-24677f4decad",
   "metadata": {},
   "source": [
    "#### Criar matriz de 10 ones"
   ]
  },
  {
   "cell_type": "code",
   "execution_count": 99,
   "id": "37270252-f214-4f4e-94ef-9888621ed6e7",
   "metadata": {},
   "outputs": [
    {
     "data": {
      "text/plain": [
       "array([1., 1., 1., 1., 1., 1., 1., 1., 1., 1.])"
      ]
     },
     "execution_count": 99,
     "metadata": {},
     "output_type": "execute_result"
    }
   ],
   "source": [
    "ones = np.ones(10)\n",
    "ones"
   ]
  },
  {
   "cell_type": "markdown",
   "id": "fdfde684-f755-4d8a-abe3-8b559ba0a5c1",
   "metadata": {},
   "source": [
    "#### Criar matriz de 10 cincos\n"
   ]
  },
  {
   "cell_type": "code",
   "execution_count": 3,
   "id": "8a2cef3d-3017-4bb9-9665-6b69e738a0f8",
   "metadata": {},
   "outputs": [
    {
     "data": {
      "text/plain": [
       "array([5., 5., 5., 5., 5., 5., 5., 5., 5., 5.])"
      ]
     },
     "execution_count": 3,
     "metadata": {},
     "output_type": "execute_result"
    }
   ],
   "source": [
    "ones = np.ones(10) * 5\n",
    "ones"
   ]
  },
  {
   "cell_type": "markdown",
   "id": "8c754784-5b39-4b93-86a7-ff398ae5fbe5",
   "metadata": {},
   "source": [
    "#### Crie um array de inteiros de 10 até 50"
   ]
  },
  {
   "cell_type": "code",
   "execution_count": 4,
   "id": "634b141d-6831-412e-9a6e-c23ca15a4d92",
   "metadata": {},
   "outputs": [
    {
     "data": {
      "text/plain": [
       "array([10, 11, 12, 13, 14, 15, 16, 17, 18, 19, 20, 21, 22, 23, 24, 25, 26,\n",
       "       27, 28, 29, 30, 31, 32, 33, 34, 35, 36, 37, 38, 39, 40, 41, 42, 43,\n",
       "       44, 45, 46, 47, 48, 49, 50])"
      ]
     },
     "execution_count": 4,
     "metadata": {},
     "output_type": "execute_result"
    }
   ],
   "source": [
    "np.arange(10,51) "
   ]
  },
  {
   "cell_type": "markdown",
   "id": "d2236b93-c168-4934-978d-a6f8edbcad4b",
   "metadata": {},
   "source": [
    "#### Crie um array dos numeros pares de 10 até 50"
   ]
  },
  {
   "cell_type": "code",
   "execution_count": 5,
   "id": "3268691c-8368-4552-ab61-2bc6762a14e5",
   "metadata": {},
   "outputs": [
    {
     "data": {
      "text/plain": [
       "array([10, 12, 14, 16, 18, 20, 22, 24, 26, 28, 30, 32, 34, 36, 38, 40, 42,\n",
       "       44, 46, 48, 50])"
      ]
     },
     "execution_count": 5,
     "metadata": {},
     "output_type": "execute_result"
    }
   ],
   "source": [
    "np.arange(10,51,2) "
   ]
  },
  {
   "cell_type": "markdown",
   "id": "1a057271-28f9-408c-9866-dcb81accd900",
   "metadata": {},
   "source": [
    "#### Criar matriz 3x3 com valores variando de 0 ate 8 "
   ]
  },
  {
   "cell_type": "code",
   "execution_count": 6,
   "id": "68db279a-5a29-4fd7-b6ea-f38a129c9ec9",
   "metadata": {},
   "outputs": [
    {
     "data": {
      "text/plain": [
       "array([[0, 1, 2],\n",
       "       [3, 4, 5],\n",
       "       [6, 7, 8]])"
      ]
     },
     "execution_count": 6,
     "metadata": {},
     "output_type": "execute_result"
    }
   ],
   "source": [
    "np.arange(0,9).reshape((3,3))"
   ]
  },
  {
   "cell_type": "markdown",
   "id": "7ea032c5-3f2b-45c4-a469-d18067a1546b",
   "metadata": {},
   "source": [
    "#### Criar matriz identidade 3x3"
   ]
  },
  {
   "cell_type": "code",
   "execution_count": 8,
   "id": "1d379e31-0b10-409c-aa13-46ca1644c589",
   "metadata": {},
   "outputs": [
    {
     "data": {
      "text/plain": [
       "array([[1., 0., 0.],\n",
       "       [0., 1., 0.],\n",
       "       [0., 0., 1.]])"
      ]
     },
     "execution_count": 8,
     "metadata": {},
     "output_type": "execute_result"
    }
   ],
   "source": [
    "np.eye(3)"
   ]
  },
  {
   "cell_type": "markdown",
   "id": "8851c2ca-4633-48af-9154-c4cb2e84ed32",
   "metadata": {},
   "source": [
    "#### Usar numpy para gerar numeros aleatorios entre 0 e 1"
   ]
  },
  {
   "cell_type": "code",
   "execution_count": 9,
   "id": "a4778564-8cf5-402a-a847-49d1bf527e3c",
   "metadata": {},
   "outputs": [
    {
     "data": {
      "text/plain": [
       "array([0.10552761])"
      ]
     },
     "execution_count": 9,
     "metadata": {},
     "output_type": "execute_result"
    }
   ],
   "source": [
    "np.random.rand(1)"
   ]
  },
  {
   "cell_type": "markdown",
   "id": "6a0e2b6a-edb4-4c5c-9664-4b02c2b187a9",
   "metadata": {},
   "source": [
    "#### Usar numpy para gerar array de 25 numeros aleatorios tirados de uma distribuicao normal"
   ]
  },
  {
   "cell_type": "code",
   "execution_count": 10,
   "id": "ecca6a36-a29b-4531-84ef-05bed4614b55",
   "metadata": {},
   "outputs": [
    {
     "data": {
      "text/plain": [
       "array([-1.06283630e+00, -2.69621083e-01,  7.89181725e-01,  9.51516017e-01,\n",
       "        1.75182754e+00, -2.82803804e-02,  1.21036841e+00,  4.73070584e-02,\n",
       "       -1.88134364e-01, -3.47530021e-05,  1.40309980e+00, -1.48699282e-01,\n",
       "       -4.10363468e-01,  1.06110847e+00, -3.84613551e-01, -1.23621344e+00,\n",
       "        7.37273481e-01, -6.66951561e-01, -7.81167193e-02, -9.89682457e-01,\n",
       "        4.31183322e-01,  1.26687052e+00, -3.14425391e-01, -1.30733547e+00,\n",
       "        4.01309844e-01])"
      ]
     },
     "execution_count": 10,
     "metadata": {},
     "output_type": "execute_result"
    }
   ],
   "source": [
    "np.random.randn(25)"
   ]
  },
  {
   "cell_type": "markdown",
   "id": "7a85916e-c74d-419a-86c1-2884331d73ce",
   "metadata": {},
   "source": [
    "#### Criar a seguinte matriz "
   ]
  },
  {
   "cell_type": "code",
   "execution_count": 11,
   "id": "7fe52f76-d442-45f1-b3f2-11d7b9c69140",
   "metadata": {},
   "outputs": [
    {
     "data": {
      "text/plain": [
       "array([0.01, 0.02, 0.03, 0.04, 0.05, 0.06, 0.07, 0.08, 0.09, 0.1 , 0.11,\n",
       "       0.12, 0.13, 0.14, 0.15, 0.16, 0.17, 0.18, 0.19, 0.2 , 0.21, 0.22,\n",
       "       0.23, 0.24, 0.25, 0.26, 0.27, 0.28, 0.29, 0.3 , 0.31, 0.32, 0.33,\n",
       "       0.34, 0.35, 0.36, 0.37, 0.38, 0.39, 0.4 , 0.41, 0.42, 0.43, 0.44,\n",
       "       0.45, 0.46, 0.47, 0.48, 0.49, 0.5 , 0.51, 0.52, 0.53, 0.54, 0.55,\n",
       "       0.56, 0.57, 0.58, 0.59, 0.6 , 0.61, 0.62, 0.63, 0.64, 0.65, 0.66,\n",
       "       0.67, 0.68, 0.69, 0.7 , 0.71, 0.72, 0.73, 0.74, 0.75, 0.76, 0.77,\n",
       "       0.78, 0.79, 0.8 , 0.81, 0.82, 0.83, 0.84, 0.85, 0.86, 0.87, 0.88,\n",
       "       0.89, 0.9 , 0.91, 0.92, 0.93, 0.94, 0.95, 0.96, 0.97, 0.98, 0.99,\n",
       "       1.  ])"
      ]
     },
     "execution_count": 11,
     "metadata": {},
     "output_type": "execute_result"
    }
   ],
   "source": [
    "np.arange(1,101) / 100"
   ]
  },
  {
   "cell_type": "markdown",
   "id": "de2c207f-242f-4130-8c38-bc5f59fde2d0",
   "metadata": {},
   "source": [
    "#### Criar um array de tamanho 20 igualmente espacado entre 0 e 1"
   ]
  },
  {
   "cell_type": "code",
   "execution_count": 12,
   "id": "06e7363b-f4ab-40b5-9360-f0b601dd1814",
   "metadata": {},
   "outputs": [
    {
     "data": {
      "text/plain": [
       "array([0.        , 0.05263158, 0.10526316, 0.15789474, 0.21052632,\n",
       "       0.26315789, 0.31578947, 0.36842105, 0.42105263, 0.47368421,\n",
       "       0.52631579, 0.57894737, 0.63157895, 0.68421053, 0.73684211,\n",
       "       0.78947368, 0.84210526, 0.89473684, 0.94736842, 1.        ])"
      ]
     },
     "execution_count": 12,
     "metadata": {},
     "output_type": "execute_result"
    }
   ],
   "source": [
    "np.linspace(0,1,20)"
   ]
  },
  {
   "cell_type": "markdown",
   "id": "7554a0ff-80e7-4f22-8391-f3c428375a95",
   "metadata": {},
   "source": [
    "### Indexação Numpy e Seleção\r\n",
    "Agora você receberá algumas matrizes e será solicitado a replicar as saídas resultantes da matriz:"
   ]
  },
  {
   "cell_type": "code",
   "execution_count": 13,
   "id": "491e5925-dfe4-4b9f-af3b-4ae47b2f3b7a",
   "metadata": {},
   "outputs": [
    {
     "data": {
      "text/plain": [
       "array([[ 1,  2,  3,  4,  5],\n",
       "       [ 6,  7,  8,  9, 10],\n",
       "       [11, 12, 13, 14, 15],\n",
       "       [16, 17, 18, 19, 20],\n",
       "       [21, 22, 23, 24, 25]])"
      ]
     },
     "execution_count": 13,
     "metadata": {},
     "output_type": "execute_result"
    }
   ],
   "source": [
    "mat = np.arange(1,26).reshape(5,5)\n",
    "mat"
   ]
  },
  {
   "cell_type": "code",
   "execution_count": 14,
   "id": "512fe606-60f1-46dd-a563-45349d28a501",
   "metadata": {},
   "outputs": [
    {
     "data": {
      "text/plain": [
       "array([[12, 13, 14, 15],\n",
       "       [17, 18, 19, 20],\n",
       "       [22, 23, 24, 25]])"
      ]
     },
     "execution_count": 14,
     "metadata": {},
     "output_type": "execute_result"
    }
   ],
   "source": [
    "mat[2:,1:]"
   ]
  },
  {
   "cell_type": "code",
   "execution_count": 15,
   "id": "997958a8-eead-47fd-883d-5f9969b8fb88",
   "metadata": {},
   "outputs": [
    {
     "data": {
      "text/plain": [
       "20"
      ]
     },
     "execution_count": 15,
     "metadata": {},
     "output_type": "execute_result"
    }
   ],
   "source": [
    "mat[3,-1]"
   ]
  },
  {
   "cell_type": "code",
   "execution_count": 16,
   "id": "bce7a8f4-975b-48a1-812f-c370656c265b",
   "metadata": {},
   "outputs": [
    {
     "data": {
      "text/plain": [
       "array([[ 2],\n",
       "       [ 7],\n",
       "       [12]])"
      ]
     },
     "execution_count": 16,
     "metadata": {},
     "output_type": "execute_result"
    }
   ],
   "source": [
    "mat[ : 3, 1 ].reshape(3,1)"
   ]
  },
  {
   "cell_type": "code",
   "execution_count": 17,
   "id": "8de7a82a-c52a-4e0d-a1b2-a511b633a444",
   "metadata": {},
   "outputs": [
    {
     "data": {
      "text/plain": [
       "array([21, 22, 23, 24, 25])"
      ]
     },
     "execution_count": 17,
     "metadata": {},
     "output_type": "execute_result"
    }
   ],
   "source": [
    "mat[-1, : ]"
   ]
  },
  {
   "cell_type": "code",
   "execution_count": 18,
   "id": "87f22431-4e76-437b-be5f-e5107847a48c",
   "metadata": {},
   "outputs": [
    {
     "data": {
      "text/plain": [
       "array([[16, 17, 18, 19, 20],\n",
       "       [21, 22, 23, 24, 25]])"
      ]
     },
     "execution_count": 18,
     "metadata": {},
     "output_type": "execute_result"
    }
   ],
   "source": [
    "mat[3: , : ]"
   ]
  },
  {
   "cell_type": "markdown",
   "id": "7b2999e0-dbde-4ea1-a4ab-b711a52063a7",
   "metadata": {},
   "source": [
    "### Agora faça o seguinte"
   ]
  },
  {
   "cell_type": "markdown",
   "id": "639687ea-2af1-4c78-977d-6f2ace109083",
   "metadata": {},
   "source": [
    "#### Obter a soma de todos os valores no \"mat\""
   ]
  },
  {
   "cell_type": "code",
   "execution_count": 19,
   "id": "01830904-5b3e-4899-bbb1-cd57cc37a620",
   "metadata": {},
   "outputs": [
    {
     "data": {
      "text/plain": [
       "325"
      ]
     },
     "execution_count": 19,
     "metadata": {},
     "output_type": "execute_result"
    }
   ],
   "source": [
    "np.sum(mat)"
   ]
  },
  {
   "cell_type": "markdown",
   "id": "5839cac3-810f-4111-80c0-3febdb5f86d0",
   "metadata": {},
   "source": [
    "#### Obter o desvio padrão dos valores em mat"
   ]
  },
  {
   "cell_type": "code",
   "execution_count": null,
   "id": "dacfe047-21d5-400e-9a5d-eda595f084d4",
   "metadata": {},
   "outputs": [],
   "source": [
    "np.std(mat)"
   ]
  },
  {
   "cell_type": "markdown",
   "id": "a4c15d08-5f95-483b-9cb0-a32b44477d2a",
   "metadata": {},
   "source": [
    "#### Obter a soma de todas as colunas em mat"
   ]
  },
  {
   "cell_type": "code",
   "execution_count": 20,
   "id": "5cb8b243-2e76-4ba9-8beb-8a58c11af6e9",
   "metadata": {},
   "outputs": [
    {
     "data": {
      "text/plain": [
       "array([55, 60, 65, 70, 75])"
      ]
     },
     "execution_count": 20,
     "metadata": {},
     "output_type": "execute_result"
    }
   ],
   "source": [
    "mat.sum(axis=0)\n",
    "#axis = 0 (soma das colunas)\n",
    "#axis = 1 (soma das linhas)"
   ]
  }
 ],
 "metadata": {
  "kernelspec": {
   "display_name": "Python 3 (ipykernel)",
   "language": "python",
   "name": "python3"
  },
  "language_info": {
   "codemirror_mode": {
    "name": "ipython",
    "version": 3
   },
   "file_extension": ".py",
   "mimetype": "text/x-python",
   "name": "python",
   "nbconvert_exporter": "python",
   "pygments_lexer": "ipython3",
   "version": "3.12.4"
  }
 },
 "nbformat": 4,
 "nbformat_minor": 5
}
