{
 "cells": [
  {
   "cell_type": "code",
   "execution_count": 2,
   "id": "e65e9a28-39cb-4e56-abe8-01cfdf2a71e3",
   "metadata": {},
   "outputs": [],
   "source": [
    "from numpy import random"
   ]
  },
  {
   "cell_type": "code",
   "execution_count": 3,
   "id": "17bf027f-7e29-49a6-9471-70c0c7d789cc",
   "metadata": {},
   "outputs": [],
   "source": [
    "random.seed(0)\n",
    "\n",
    "totals = {20:0, 30:0, 40:0, 50:0, 60:0, 70:0}\n",
    "purchases = {20:0, 30:0, 40:0, 50:0, 60:0, 70:0}\n",
    "totalPurchases = 0\n",
    "for _ in range(100000):\n",
    "    ageDecade = random.choice([20, 30, 40, 50, 60, 70])\n",
    "    purchaseProbability = float(ageDecade) / 100.0\n",
    "    totals[ageDecade] += 1\n",
    "    if (random.random() < purchaseProbability):\n",
    "        totalPurchases += 1\n",
    "        purchases[ageDecade] += 1"
   ]
  },
  {
   "cell_type": "code",
   "execution_count": 5,
   "id": "6fe1fb96-3e72-41c8-8d80-396f0e909bcf",
   "metadata": {},
   "outputs": [
    {
     "data": {
      "text/plain": [
       "{20: 16576, 30: 16619, 40: 16632, 50: 16805, 60: 16664, 70: 16704}"
      ]
     },
     "execution_count": 5,
     "metadata": {},
     "output_type": "execute_result"
    }
   ],
   "source": [
    "totals"
   ]
  },
  {
   "cell_type": "code",
   "execution_count": 6,
   "id": "f3172225-5346-46d6-a820-77ec985de038",
   "metadata": {},
   "outputs": [
    {
     "data": {
      "text/plain": [
       "{20: 3392, 30: 4974, 40: 6670, 50: 8319, 60: 9944, 70: 11713}"
      ]
     },
     "execution_count": 6,
     "metadata": {},
     "output_type": "execute_result"
    }
   ],
   "source": [
    "purchases"
   ]
  },
  {
   "cell_type": "code",
   "execution_count": 7,
   "id": "141c178b-da50-4ade-ab1e-c22bba349b5a",
   "metadata": {},
   "outputs": [
    {
     "data": {
      "text/plain": [
       "45012"
      ]
     },
     "execution_count": 7,
     "metadata": {},
     "output_type": "execute_result"
    }
   ],
   "source": [
    "totalPurchases"
   ]
  },
  {
   "cell_type": "code",
   "execution_count": 14,
   "id": "43b95853-5f8b-42f9-bd25-9d6a38d05758",
   "metadata": {},
   "outputs": [
    {
     "name": "stdout",
     "output_type": "stream",
     "text": [
      "P(purchase | 30s): 0.29929598652145134\n"
     ]
    }
   ],
   "source": [
    "# Chance de comprar dado que tem 30 anos\n",
    "PEF = float(purchases[30]) / float(totals[30])\n",
    "print('P(purchase | 30s): ' + str(PEF))"
   ]
  },
  {
   "cell_type": "code",
   "execution_count": 15,
   "id": "70012b49-8d7a-4348-b80d-dda21635f693",
   "metadata": {},
   "outputs": [
    {
     "name": "stdout",
     "output_type": "stream",
     "text": [
      "P(30's): 0.16619\n"
     ]
    }
   ],
   "source": [
    "# Chance de escolher alguem com 30 anos = aprox. 1/6\n",
    "PF = float(totals[30]) / 100000.0\n",
    "print(\"P(30's): \" + str(PF))"
   ]
  },
  {
   "cell_type": "code",
   "execution_count": 9,
   "id": "d8adf555-f866-4549-82ce-f0917fa1bf0e",
   "metadata": {},
   "outputs": [
    {
     "name": "stdout",
     "output_type": "stream",
     "text": [
      "P(Purchase): 0.45012\n"
     ]
    }
   ],
   "source": [
    "# Chance de comprar independente da idade\n",
    "PE = float(totalPurchases) / 100000.0\n",
    "print(\"P(Purchase): \" + str(PE))"
   ]
  },
  {
   "cell_type": "code",
   "execution_count": 10,
   "id": "b5a6e8dd-e55e-4337-9c38-57330941a6d0",
   "metadata": {},
   "outputs": [
    {
     "name": "stdout",
     "output_type": "stream",
     "text": [
      "P(30's, Purchase): 0.04974\n"
     ]
    }
   ],
   "source": [
    "print(\"P(30's, Purchase): \" + str(float(purchases[30]) / 100000.0))"
   ]
  },
  {
   "cell_type": "code",
   "execution_count": 16,
   "id": "eb8ce33b-2576-4edb-816a-742400fc88ef",
   "metadata": {},
   "outputs": [
    {
     "name": "stdout",
     "output_type": "stream",
     "text": [
      "P(30's)P(Purchase): 0.07480544280000001\n"
     ]
    }
   ],
   "source": [
    "print(\"P(30's)P(Purchase): \" + str(PE * PF))"
   ]
  },
  {
   "cell_type": "code",
   "execution_count": 17,
   "id": "5913c1f2-d8d0-4864-9a3c-76dc8a5ba8c3",
   "metadata": {},
   "outputs": [
    {
     "name": "stdout",
     "output_type": "stream",
     "text": [
      "0.29929598652145134\n"
     ]
    }
   ],
   "source": [
    "print((purchases[30] / 100000.0) / PF)"
   ]
  },
  {
   "cell_type": "code",
   "execution_count": 18,
   "id": "be3a584e-38f6-4739-bb6a-c0ba6c58e59f",
   "metadata": {},
   "outputs": [],
   "source": [
    "random.seed(0)\n",
    "\n",
    "totals = {20:0, 30:0, 40:0, 50:0, 60:0, 70:0}\n",
    "purchases = {20:0, 30:0, 40:0, 50:0, 60:0, 70:0}\n",
    "totalPurchases = 0\n",
    "for _ in range(100000):\n",
    "    ageDecade = random.choice([20, 30, 40, 50, 60, 70])\n",
    "    purchaseProbability = 0.5\n",
    "    totals[ageDecade] += 1\n",
    "    if (random.random() < purchaseProbability):\n",
    "        totalPurchases += 1\n",
    "        purchases[ageDecade] += 1"
   ]
  },
  {
   "cell_type": "code",
   "execution_count": 19,
   "id": "bb33c406-03e8-4ccf-b007-65e6dc348ca1",
   "metadata": {},
   "outputs": [
    {
     "data": {
      "text/plain": [
       "({20: 16576, 30: 16619, 40: 16632, 50: 16805, 60: 16664, 70: 16704},\n",
       " {20: 8378, 30: 8293, 40: 8364, 50: 8319, 60: 8276, 70: 8456},\n",
       " 50086)"
      ]
     },
     "execution_count": 19,
     "metadata": {},
     "output_type": "execute_result"
    }
   ],
   "source": [
    "totals, purchases, totalPurchases"
   ]
  },
  {
   "cell_type": "code",
   "execution_count": 20,
   "id": "ef80a752-dfe6-4c49-bd9c-fd0d06c93384",
   "metadata": {},
   "outputs": [
    {
     "name": "stdout",
     "output_type": "stream",
     "text": [
      "P(purchase | 30s): 0.49900716047896987\n"
     ]
    }
   ],
   "source": [
    "PEF = float(purchases[30]) / float(totals[30])\n",
    "print('P(purchase | 30s): ' + str(PEF))"
   ]
  },
  {
   "cell_type": "code",
   "execution_count": 21,
   "id": "629c12a2-a91a-413d-9ca1-97dd37af7abf",
   "metadata": {},
   "outputs": [
    {
     "name": "stdout",
     "output_type": "stream",
     "text": [
      "P(30's): 0.16619\n"
     ]
    }
   ],
   "source": [
    "PF = float(totals[30]) / 100000.0\n",
    "print(\"P(30's): \" + str(PF))"
   ]
  },
  {
   "cell_type": "code",
   "execution_count": 22,
   "id": "09d285a4-1a69-429e-a8a9-ef098cbf7a35",
   "metadata": {},
   "outputs": [
    {
     "name": "stdout",
     "output_type": "stream",
     "text": [
      "P(Purchase): 0.50086\n"
     ]
    }
   ],
   "source": [
    "PE = float(totalPurchases) / 100000.0\n",
    "print(\"P(Purchase): \" + str(PE))"
   ]
  },
  {
   "cell_type": "markdown",
   "id": "afa5110d-ccde-46eb-97ae-03fa7f44756a",
   "metadata": {},
   "source": [
    "PEF e PE são os mesmos indicando que E e F são independentes."
   ]
  }
 ],
 "metadata": {
  "kernelspec": {
   "display_name": "Python 3 (ipykernel)",
   "language": "python",
   "name": "python3"
  },
  "language_info": {
   "codemirror_mode": {
    "name": "ipython",
    "version": 3
   },
   "file_extension": ".py",
   "mimetype": "text/x-python",
   "name": "python",
   "nbconvert_exporter": "python",
   "pygments_lexer": "ipython3",
   "version": "3.12.4"
  }
 },
 "nbformat": 4,
 "nbformat_minor": 5
}
