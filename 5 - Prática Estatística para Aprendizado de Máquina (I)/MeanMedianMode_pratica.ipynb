{
 "cells": [
  {
   "cell_type": "markdown",
   "id": "58dcafad-759f-4882-abfb-7f181237f9a7",
   "metadata": {},
   "source": [
    "## Média, Mediana e Moda\n"
   ]
  },
  {
   "cell_type": "markdown",
   "id": "394e97fc-40a7-495b-8bc6-7f8c9dd43efd",
   "metadata": {},
   "source": [
    "### Media Vs Mediana\n"
   ]
  },
  {
   "cell_type": "code",
   "execution_count": 2,
   "id": "1b4c41f6-30ae-43bd-9543-f8a6fe3424d2",
   "metadata": {},
   "outputs": [],
   "source": [
    "%matplotlib inline\n",
    "import numpy as np\n",
    "import matplotlib.pyplot as plt"
   ]
  },
  {
   "cell_type": "code",
   "execution_count": 3,
   "id": "29fe9973-c93b-488c-9962-86ae4a12688e",
   "metadata": {},
   "outputs": [
    {
     "data": {
      "image/png": "[encoded data removed]",
      "text/plain": [
       "<Figure size 640x480 with 1 Axes>"
      ]
     },
     "metadata": {},
     "output_type": "display_data"
    }
   ],
   "source": [
    "np.random.seed(150)\n",
    "income = np.random.normal(29000, 16000, 10000)\n",
    "\n",
    "plt.hist(income, 50)\n",
    "plt.show()"
   ]
  },
  {
   "cell_type": "code",
   "execution_count": 4,
   "id": "086a9570-f9fa-40a5-8394-bd2611856bf7",
   "metadata": {},
   "outputs": [
    {
     "data": {
      "text/plain": [
       "28781.52135721102"
      ]
     },
     "execution_count": 4,
     "metadata": {},
     "output_type": "execute_result"
    }
   ],
   "source": [
    "np.median(income)"
   ]
  },
  {
   "cell_type": "code",
   "execution_count": 5,
   "id": "2086d7ee-6d52-450d-9a6a-6252f420174b",
   "metadata": {},
   "outputs": [
    {
     "data": {
      "text/plain": [
       "28707.92780865332"
      ]
     },
     "execution_count": 5,
     "metadata": {},
     "output_type": "execute_result"
    }
   ],
   "source": [
    "np.mean(income)"
   ]
  },
  {
   "cell_type": "code",
   "execution_count": 6,
   "id": "056eb428-a7a2-4b80-a8af-de7dc4863db7",
   "metadata": {},
   "outputs": [],
   "source": [
    "income = np.append(income, [1000000000])"
   ]
  },
  {
   "cell_type": "code",
   "execution_count": 7,
   "id": "efb2a089-a92f-41ca-af62-1a3aa71f8a32",
   "metadata": {},
   "outputs": [
    {
     "data": {
      "text/plain": [
       "28783.60053446052"
      ]
     },
     "execution_count": 7,
     "metadata": {},
     "output_type": "execute_result"
    }
   ],
   "source": [
    "np.median(income)"
   ]
  },
  {
   "cell_type": "code",
   "execution_count": 8,
   "id": "57814577-0409-45b4-96f6-2031b013f6be",
   "metadata": {},
   "outputs": [
    {
     "data": {
      "text/plain": [
       "128695.05830282302"
      ]
     },
     "execution_count": 8,
     "metadata": {},
     "output_type": "execute_result"
    }
   ],
   "source": [
    "\n",
    "np.mean(income)"
   ]
  },
  {
   "cell_type": "markdown",
   "id": "c4b208ea-8e46-4680-9739-7109ae97e933",
   "metadata": {},
   "source": [
    "### Moda"
   ]
  },
  {
   "cell_type": "code",
   "execution_count": 9,
   "id": "862e8b57-640e-4ff1-9a78-1982e4ba8be6",
   "metadata": {},
   "outputs": [
    {
     "data": {
      "text/plain": [
       "array([64, 86, 87, 53, 76, 78, 64, 88, 42, 65, 51, 56, 86, 55, 69, 68, 63,\n",
       "       57, 68, 42, 56, 77, 41, 45, 80, 80, 45, 57, 29, 71, 85, 47, 35, 71,\n",
       "       66, 72, 78, 51, 73, 74, 57, 38, 28, 47, 51, 31, 67, 83, 57, 40, 87,\n",
       "       54, 59, 85, 32, 43, 39, 79, 31, 64, 74, 74, 51, 44, 71, 38, 68, 31,\n",
       "       34, 35, 38, 33, 28, 66, 32, 89, 53, 86, 69, 52, 46, 70, 30, 35, 50,\n",
       "       78, 38, 72, 29, 65, 82, 37, 32, 84, 83, 57, 81, 86, 53, 86, 44, 50,\n",
       "       53, 72, 41, 52, 79, 57, 37, 73, 85, 62, 66, 87, 67, 89, 32, 29, 82,\n",
       "       39, 28, 77, 73, 73, 33, 40, 34, 72, 32, 40, 31, 73, 32, 52, 60, 79,\n",
       "       31, 39, 62, 79, 48, 80, 68, 79, 57, 38, 89, 88, 61, 35, 83, 69, 48,\n",
       "       71, 55, 58, 62, 73, 66, 28, 76, 64, 81, 50, 29, 61, 49, 61, 63, 83,\n",
       "       54, 82, 53, 40, 59, 68, 88, 44, 39, 65, 43, 33, 80, 77, 49, 54, 39,\n",
       "       28, 81, 32, 75, 47, 40, 60, 78, 30, 85, 74, 69, 76, 77, 56, 84, 80,\n",
       "       38, 40, 85, 47, 31, 86, 44, 63, 45, 80, 34, 33, 56, 76, 66, 76, 53,\n",
       "       35, 76, 72, 42, 31, 40, 32, 30, 30, 50, 35, 46, 53, 33, 49, 61, 88,\n",
       "       28, 72, 29, 34, 60, 38, 52, 59, 66, 45, 36, 52, 33, 89, 30, 51, 53,\n",
       "       60, 71, 46, 69, 43, 40, 87, 82, 33, 56, 43, 81, 41, 63, 85, 73, 47,\n",
       "       52, 36, 72, 39, 75, 45, 63, 47, 72, 57, 59, 28, 64, 87, 50, 69, 51,\n",
       "       52, 48, 64, 63, 84, 89, 51, 37, 58, 32, 56, 57, 33, 54, 87, 47, 86,\n",
       "       83, 83, 29, 76, 36, 68, 77, 81, 28, 82, 37, 60, 43, 77, 31, 60, 34,\n",
       "       38, 66, 83, 52, 48, 44, 69, 55, 83, 49, 59, 74, 39, 77, 85, 89, 66,\n",
       "       46, 68, 86, 81, 67, 49, 46, 32, 74, 54, 63, 74, 73, 36, 31, 73, 42,\n",
       "       83, 42, 72, 82, 67, 37, 46, 44, 37, 68, 51, 33, 36, 55, 46, 76, 87,\n",
       "       58, 68, 71, 48, 57, 61, 69, 80, 54, 59, 40, 31, 41, 68, 48, 75, 56,\n",
       "       28, 39, 40, 63, 86, 34, 68, 59, 55, 82, 28, 50, 60, 58, 74, 87, 59,\n",
       "       66, 63, 75, 48, 61, 75, 45, 65, 42, 86, 80, 30, 64, 45, 67, 47, 35,\n",
       "       71, 55, 63, 63, 81, 39, 78, 75, 43, 70, 64, 64, 74, 36, 81, 69, 69,\n",
       "       83, 31, 44, 78, 64, 88, 42, 39, 88, 67, 86, 62, 79, 66, 48, 73, 80,\n",
       "       34, 89, 85, 52, 68, 42, 31, 77, 85, 50, 56, 32, 85, 47, 52, 68, 56,\n",
       "       65, 45, 65, 39, 70, 44, 51, 35, 53, 41, 36, 82, 81, 65, 44, 82, 73,\n",
       "       85, 67, 81, 89, 74, 86, 34])"
      ]
     },
     "execution_count": 9,
     "metadata": {},
     "output_type": "execute_result"
    }
   ],
   "source": [
    "np.random.seed(150)\n",
    "ages = np.random.randint(28, high=90, size=500)\n",
    "ages"
   ]
  },
  {
   "cell_type": "code",
   "execution_count": 10,
   "id": "5def0441-90c7-4056-9e88-b39a2e9fe8a0",
   "metadata": {},
   "outputs": [
    {
     "data": {
      "text/plain": [
       "ModeResult(mode=68, count=13)"
      ]
     },
     "execution_count": 10,
     "metadata": {},
     "output_type": "execute_result"
    }
   ],
   "source": [
    "from scipy import stats\n",
    "stats.mode(ages)"
   ]
  }
 ],
 "metadata": {
  "kernelspec": {
   "display_name": "Python 3 (ipykernel)",
   "language": "python",
   "name": "python3"
  },
  "language_info": {
   "codemirror_mode": {
    "name": "ipython",
    "version": 3
   },
   "file_extension": ".py",
   "mimetype": "text/x-python",
   "name": "python",
   "nbconvert_exporter": "python",
   "pygments_lexer": "ipython3",
   "version": "3.12.4"
  }
 },
 "nbformat": 4,
 "nbformat_minor": 5
}
