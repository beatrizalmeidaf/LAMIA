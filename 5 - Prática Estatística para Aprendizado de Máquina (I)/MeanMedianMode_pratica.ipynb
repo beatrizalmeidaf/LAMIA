{
 "cells": [
  {
   "cell_type": "markdown",
   "id": "58dcafad-759f-4882-abfb-7f181237f9a7",
   "metadata": {},
   "source": [
    "## Média, Mediana e Moda\n"
   ]
  },
  {
   "cell_type": "markdown",
   "id": "394e97fc-40a7-495b-8bc6-7f8c9dd43efd",
   "metadata": {},
   "source": [
    "### Media Vs Mediana\n"
   ]
  },
  {
   "cell_type": "code",
   "execution_count": 1,
   "id": "1b4c41f6-30ae-43bd-9543-f8a6fe3424d2",
   "metadata": {},
   "outputs": [],
   "source": [
    "%matplotlib inline\n",
    "import numpy as np\n",
    "import matplotlib.pyplot as plt"
   ]
  },
  {
   "cell_type": "code",
   "execution_count": 2,
   "id": "29fe9973-c93b-488c-9962-86ae4a12688e",
   "metadata": {},
   "outputs": [
    {
     "data": {
      "image/png": "[encoded data removed]",
      "text/plain": [
       "<Figure size 640x480 with 1 Axes>"
      ]
     },
     "metadata": {},
     "output_type": "display_data"
    }
   ],
   "source": [
    "np.random.seed(150)\n",
    "income = np.random.normal(27000, 15000, 10000)\n",
    "\n",
    "plt.hist(income, 50)\n",
    "plt.show()"
   ]
  },
  {
   "cell_type": "code",
   "execution_count": 4,
   "id": "086a9570-f9fa-40a5-8394-bd2611856bf7",
   "metadata": {},
   "outputs": [
    {
     "data": {
      "text/plain": [
       "26795.17627238533"
      ]
     },
     "execution_count": 4,
     "metadata": {},
     "output_type": "execute_result"
    }
   ],
   "source": [
    "np.median(income)"
   ]
  },
  {
   "cell_type": "code",
   "execution_count": 5,
   "id": "2086d7ee-6d52-450d-9a6a-6252f420174b",
   "metadata": {},
   "outputs": [
    {
     "data": {
      "text/plain": [
       "26726.182320612483"
      ]
     },
     "execution_count": 5,
     "metadata": {},
     "output_type": "execute_result"
    }
   ],
   "source": [
    "np.mean(income)"
   ]
  },
  {
   "cell_type": "code",
   "execution_count": 6,
   "id": "056eb428-a7a2-4b80-a8af-de7dc4863db7",
   "metadata": {},
   "outputs": [],
   "source": [
    "income = np.append(income, [1000000000])"
   ]
  },
  {
   "cell_type": "code",
   "execution_count": 11,
   "id": "efb2a089-a92f-41ca-af62-1a3aa71f8a32",
   "metadata": {},
   "outputs": [
    {
     "data": {
      "text/plain": [
       "26797.125501056737"
      ]
     },
     "execution_count": 11,
     "metadata": {},
     "output_type": "execute_result"
    }
   ],
   "source": [
    "np.median(income)"
   ]
  },
  {
   "cell_type": "code",
   "execution_count": 12,
   "id": "57814577-0409-45b4-96f6-2031b013f6be",
   "metadata": {},
   "outputs": [
    {
     "data": {
      "text/plain": [
       "126713.51096951553"
      ]
     },
     "execution_count": 12,
     "metadata": {},
     "output_type": "execute_result"
    }
   ],
   "source": [
    "\n",
    "np.mean(income)"
   ]
  },
  {
   "cell_type": "markdown",
   "id": "c4b208ea-8e46-4680-9739-7109ae97e933",
   "metadata": {},
   "source": [
    "### Moda"
   ]
  },
  {
   "cell_type": "code",
   "execution_count": 13,
   "id": "862e8b57-640e-4ff1-9a78-1982e4ba8be6",
   "metadata": {},
   "outputs": [
    {
     "data": {
      "text/plain": [
       "array([76, 43, 68, 32, 41, 45, 47, 32, 46, 67, 31, 35, 83, 25, 61, 56, 80,\n",
       "       41, 63, 82, 37, 41, 85, 73, 30, 44, 86, 33, 85, 64, 41, 85, 88, 25,\n",
       "       28, 23, 18, 56, 86, 79, 76, 42, 36, 84, 25, 40, 68, 62, 19, 55, 27,\n",
       "       22, 74, 73, 47, 76, 43, 43, 69, 75, 56, 57, 86, 83, 18, 80, 67, 63,\n",
       "       63, 87, 24, 62, 22, 85, 63, 22, 42, 69, 85, 52, 69, 38, 70, 79, 25,\n",
       "       73, 38, 61, 45, 48, 52, 63, 56, 18, 66, 19, 39, 80, 53, 73, 44, 81,\n",
       "       49, 58, 33, 87, 70, 67, 29, 18, 86, 37, 30, 68, 20, 64, 59, 67, 46,\n",
       "       74, 30, 75, 37, 21, 34, 53, 70, 88, 23, 66, 56, 25, 66, 62, 21, 30,\n",
       "       22, 20, 20, 40, 89, 43, 87, 39, 18, 19, 88, 28, 42, 49, 56, 23, 84,\n",
       "       43, 50, 36, 59, 30, 77, 72, 87, 33, 31, 75, 63, 26, 65, 35, 53, 37,\n",
       "       62, 49, 82, 54, 40, 81, 41, 38, 53, 79, 48, 86, 46, 87, 44, 37, 81,\n",
       "       76, 19, 26, 58, 67, 18, 72, 50, 33, 67, 85, 50, 88, 28, 42, 38, 49,\n",
       "       79, 56, 36, 58, 76, 57, 39, 36, 86, 64, 44, 63, 81, 21, 63, 32, 73,\n",
       "       32, 72, 81, 57, 27, 27, 41, 87, 36, 48, 61, 38, 47, 51, 59, 44, 49,\n",
       "       85, 38, 65, 82, 53, 76, 24, 49, 45, 72, 82, 40, 48, 64, 77, 53, 65,\n",
       "       38, 65, 35, 55, 70, 20, 57, 37, 89, 61, 80, 45, 29, 68, 65, 60, 59,\n",
       "       73, 21, 68, 78, 32, 29, 69, 63, 24, 79, 58, 21, 67, 46, 86, 75, 42,\n",
       "       46, 35, 55, 60, 34, 89, 43, 26, 72, 71, 55, 34, 63, 57, 64, 76, 88,\n",
       "       33, 60, 38, 81, 46, 35, 19, 57, 30, 28, 24, 19, 34, 53, 51, 37, 89,\n",
       "       62, 80, 25, 49, 23, 29, 69, 83, 62, 63, 68, 40, 86, 45, 77, 72, 54,\n",
       "       61, 45, 87, 74, 60, 28, 23, 74, 70, 33, 65, 48, 71, 77, 73, 43, 85,\n",
       "       67, 86, 58, 44, 30, 73, 31, 72, 39, 42, 82, 40, 29, 24, 48, 32, 26,\n",
       "       25, 55, 32, 49, 43, 39, 20, 54, 20, 25, 36, 68, 51, 54, 76, 72, 24,\n",
       "       18, 42, 21, 39, 89, 54, 81, 30, 63, 60, 68, 53, 45, 45, 22, 45, 54,\n",
       "       45, 46, 31, 38, 57, 42, 20, 22, 36, 49, 54, 26, 31, 65, 78, 23, 71,\n",
       "       85, 49, 69, 78, 77, 43, 79, 60, 60, 82, 37, 45, 59, 22, 40, 25, 64,\n",
       "       76, 40, 33, 45, 71, 70, 85, 39, 39, 42, 22, 50, 32, 39, 86, 28, 70,\n",
       "       58, 78, 74, 38, 34, 39, 33, 45, 41, 69, 24, 34, 30, 25, 28, 37, 69,\n",
       "       48, 74, 65, 70, 27, 36, 83, 34, 19, 79, 44, 68, 55, 24, 74, 33, 70,\n",
       "       77, 41, 42, 74, 28, 36, 84])"
      ]
     },
     "execution_count": 13,
     "metadata": {},
     "output_type": "execute_result"
    }
   ],
   "source": [
    "np.random.seed(150)\n",
    "ages = np.random.randint(18, high=90, size=500)\n",
    "ages"
   ]
  },
  {
   "cell_type": "code",
   "execution_count": 14,
   "id": "5def0441-90c7-4056-9e88-b39a2e9fe8a0",
   "metadata": {},
   "outputs": [
    {
     "data": {
      "text/plain": [
       "ModeResult(mode=45, count=13)"
      ]
     },
     "execution_count": 14,
     "metadata": {},
     "output_type": "execute_result"
    }
   ],
   "source": [
    "from scipy import stats\n",
    "stats.mode(ages)"
   ]
  }
 ],
 "metadata": {
  "kernelspec": {
   "display_name": "Python 3 (ipykernel)",
   "language": "python",
   "name": "python3"
  },
  "language_info": {
   "codemirror_mode": {
    "name": "ipython",
    "version": 3
   },
   "file_extension": ".py",
   "mimetype": "text/x-python",
   "name": "python",
   "nbconvert_exporter": "python",
   "pygments_lexer": "ipython3",
   "version": "3.12.4"
  }
 },
 "nbformat": 4,
 "nbformat_minor": 5
}
